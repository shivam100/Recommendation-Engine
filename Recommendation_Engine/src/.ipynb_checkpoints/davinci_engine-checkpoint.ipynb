{
 "cells": [
  {
   "cell_type": "code",
   "execution_count": 1,
   "id": "9e229dc9-9881-4be4-b51b-e4025257e0fd",
   "metadata": {},
   "outputs": [],
   "source": [
    "####### FOR THE SAKE OF TESTING\n",
    "####### START FROM LOAD_INDEX() METHOD AND KEEP EXECUTING CELLS BELOW IT"
   ]
  },
  {
   "cell_type": "code",
   "execution_count": 32,
   "id": "38a4b91f-7220-4841-acda-09518450a590",
   "metadata": {},
   "outputs": [],
   "source": [
    "import openai\n",
    "from openai.embeddings_utils import get_embedding\n",
    "\n",
    "import pandas as pd\n",
    "import numpy as np\n",
    "import pyarrow\n",
    "import pinecone\n",
    "\n",
    "from transformers import GPT2TokenizerFast\n",
    "\n",
    "from sys import getsizeof\n",
    "from tqdm.auto import tqdm\n",
    "import json\n",
    "import time"
   ]
  },
  {
   "cell_type": "code",
   "execution_count": 3,
   "id": "93ce820b-b6e6-433b-873b-78f10b1b9c93",
   "metadata": {},
   "outputs": [],
   "source": [
    "tokenizer = GPT2TokenizerFast.from_pretrained(\"gpt2\")"
   ]
  },
  {
   "cell_type": "code",
   "execution_count": 4,
   "id": "56a4cb25-6db0-419c-b0da-1127cb1beed0",
   "metadata": {},
   "outputs": [],
   "source": [
    "############################### PREPARING THE CONTEXT AND CREATING VECTORS ################################"
   ]
  },
  {
   "cell_type": "code",
   "execution_count": 35,
   "id": "900cea8b-561d-4b1a-ac28-8f479a1c4303",
   "metadata": {},
   "outputs": [],
   "source": [
    "######## CREATING CONTEXT FOR EVERY COURSE AND MODULES ##########################\n",
    "df_Module_Description = pd.read_excel('C:\\Projects\\Recommendation Engine\\Recommendation_Engine\\data\\Course_Module_New.xlsx')\n",
    "df_Course_Description = pd.read_excel('C:\\Projects\\Recommendation Engine\\Recommendation_Engine\\data\\CoursesAndModules.xlsx')\n",
    "df_Module_Description['Context'] = \"Name of Course offered is \" + df_Module_Description.Courses + \" and the module offered in the course is \"  + df_Module_Description.Modules +  \". The details of the module is as follows. \" + df_Module_Description.Summary \n",
    "final_df = pd.concat([df_Module_Description, df_Course_Description], axis=0, ignore_index=True)\n",
    "final_df['n_tokens'] = final_df.Context.apply(lambda x: len(tokenizer.encode(x)))\n",
    "final_df.to_excel('../data/Temp.xlsx')"
   ]
  },
  {
   "cell_type": "code",
   "execution_count": 36,
   "id": "350bafe2-8de2-4b23-bab8-2bfa1b869707",
   "metadata": {},
   "outputs": [
    {
     "name": "stdout",
     "output_type": "stream",
     "text": [
      "10679\n",
      "Total cost to train with the given summary is  0.21358000000000002\n"
     ]
    }
   ],
   "source": [
    "print(sum(final_df.n_tokens))\n",
    "total_cost = (sum(final_df.n_tokens) * 0.02 )/1000\n",
    "print(\"Total cost to train with the given summary is \" , total_cost)"
   ]
  },
  {
   "cell_type": "code",
   "execution_count": 37,
   "id": "cfe88753-e18d-4dbc-b5f7-bfe35f8fd07a",
   "metadata": {},
   "outputs": [],
   "source": [
    "######## RUNNING THIS CELL WILL COST MONEY \n",
    "\n",
    "\n",
    "openai.api_key = 'ENTER OPEN AI KEY'\n",
    "count = 0\n",
    "davinci_embed_array = []\n",
    "for index, row in final_df.iterrows():\n",
    "    count += 1\n",
    "    davinci_embed_array.append(get_embedding(row['Context'], engine='text-search-davinci-doc-001'))\n",
    "    if count == 50:\n",
    "        time.sleep(62)\n",
    "        count = 0 \n",
    "    \n",
    "final_df.insert(5, \"embeddings\", davinci_embed_array, True) "
   ]
  },
  {
   "cell_type": "code",
   "execution_count": 38,
   "id": "d981737a-4799-4f60-a97a-0195f259d150",
   "metadata": {},
   "outputs": [
    {
     "data": {
      "text/html": [
       "<div>\n",
       "<style scoped>\n",
       "    .dataframe tbody tr th:only-of-type {\n",
       "        vertical-align: middle;\n",
       "    }\n",
       "\n",
       "    .dataframe tbody tr th {\n",
       "        vertical-align: top;\n",
       "    }\n",
       "\n",
       "    .dataframe thead th {\n",
       "        text-align: right;\n",
       "    }\n",
       "</style>\n",
       "<table border=\"1\" class=\"dataframe\">\n",
       "  <thead>\n",
       "    <tr style=\"text-align: right;\">\n",
       "      <th></th>\n",
       "      <th>Courses</th>\n",
       "      <th>Modules</th>\n",
       "      <th>Summary</th>\n",
       "      <th>Context</th>\n",
       "      <th>n_tokens</th>\n",
       "      <th>embeddings</th>\n",
       "      <th>id</th>\n",
       "    </tr>\n",
       "  </thead>\n",
       "  <tbody>\n",
       "    <tr>\n",
       "      <th>0</th>\n",
       "      <td>Data Analytics</td>\n",
       "      <td>Introduction to Data Analytics</td>\n",
       "      <td>The Introduction to Data Analytics module prov...</td>\n",
       "      <td>Name of Course offered is Data Analytics and t...</td>\n",
       "      <td>174</td>\n",
       "      <td>[0.006504377815872431, 0.0025779546704143286, ...</td>\n",
       "      <td>0</td>\n",
       "    </tr>\n",
       "    <tr>\n",
       "      <th>1</th>\n",
       "      <td>Data Analytics</td>\n",
       "      <td>Data Visualization</td>\n",
       "      <td>The Data Visualization module is designed to p...</td>\n",
       "      <td>Name of Course offered is Data Analytics and t...</td>\n",
       "      <td>167</td>\n",
       "      <td>[0.0037720000836998224, 0.004168551880866289, ...</td>\n",
       "      <td>1</td>\n",
       "    </tr>\n",
       "    <tr>\n",
       "      <th>2</th>\n",
       "      <td>Data Analytics</td>\n",
       "      <td>Dimension Reduction</td>\n",
       "      <td>The Dimension Reduction module focuses on tack...</td>\n",
       "      <td>Name of Course offered is Data Analytics and t...</td>\n",
       "      <td>194</td>\n",
       "      <td>[0.001655714469961822, 0.001211653114296496, -...</td>\n",
       "      <td>2</td>\n",
       "    </tr>\n",
       "    <tr>\n",
       "      <th>3</th>\n",
       "      <td>Data Analytics</td>\n",
       "      <td>Performance Evaluation</td>\n",
       "      <td>The Performance Evaluation module is dedicated...</td>\n",
       "      <td>Name of Course offered is Data Analytics and t...</td>\n",
       "      <td>190</td>\n",
       "      <td>[-0.006592290475964546, 0.003556283889338374, ...</td>\n",
       "      <td>3</td>\n",
       "    </tr>\n",
       "    <tr>\n",
       "      <th>4</th>\n",
       "      <td>Data Analytics</td>\n",
       "      <td>Multiple Linear Regression</td>\n",
       "      <td>The Multiple Linear Regression module focuses ...</td>\n",
       "      <td>Name of Course offered is Data Analytics and t...</td>\n",
       "      <td>164</td>\n",
       "      <td>[-0.0027855588123202324, 0.0035109149757772684...</td>\n",
       "      <td>4</td>\n",
       "    </tr>\n",
       "  </tbody>\n",
       "</table>\n",
       "</div>"
      ],
      "text/plain": [
       "          Courses                         Modules  \\\n",
       "0  Data Analytics  Introduction to Data Analytics   \n",
       "1  Data Analytics              Data Visualization   \n",
       "2  Data Analytics             Dimension Reduction   \n",
       "3  Data Analytics          Performance Evaluation   \n",
       "4  Data Analytics      Multiple Linear Regression   \n",
       "\n",
       "                                             Summary  \\\n",
       "0  The Introduction to Data Analytics module prov...   \n",
       "1  The Data Visualization module is designed to p...   \n",
       "2  The Dimension Reduction module focuses on tack...   \n",
       "3  The Performance Evaluation module is dedicated...   \n",
       "4  The Multiple Linear Regression module focuses ...   \n",
       "\n",
       "                                             Context  n_tokens  \\\n",
       "0  Name of Course offered is Data Analytics and t...       174   \n",
       "1  Name of Course offered is Data Analytics and t...       167   \n",
       "2  Name of Course offered is Data Analytics and t...       194   \n",
       "3  Name of Course offered is Data Analytics and t...       190   \n",
       "4  Name of Course offered is Data Analytics and t...       164   \n",
       "\n",
       "                                          embeddings id  \n",
       "0  [0.006504377815872431, 0.0025779546704143286, ...  0  \n",
       "1  [0.0037720000836998224, 0.004168551880866289, ...  1  \n",
       "2  [0.001655714469961822, 0.001211653114296496, -...  2  \n",
       "3  [-0.006592290475964546, 0.003556283889338374, ...  3  \n",
       "4  [-0.0027855588123202324, 0.0035109149757772684...  4  "
      ]
     },
     "execution_count": 38,
     "metadata": {},
     "output_type": "execute_result"
    }
   ],
   "source": [
    "final_df['id'] = [str(i) for i in range(len(final_df))]\n",
    "final_df.head(70)\n",
    "final_df.to_parquet('C:\\\\Users\\\\shiva\\\\embd.parquet')\n",
    "final_df.head()"
   ]
  },
  {
   "cell_type": "code",
   "execution_count": 39,
   "id": "bc1d1a94-816a-4db6-92cc-385c6bd4f380",
   "metadata": {},
   "outputs": [],
   "source": [
    "pinecone.init(\n",
    "    api_key='ENTER PINECONE KEY', \n",
    "    environment='us-east1-gcp'\n",
    ")\n",
    "\n",
    "index_name = 'chatgpt-demo'\n",
    "\n",
    "if not index_name in pinecone.list_indexes():\n",
    "    pinecone.create_index(\n",
    "        index_name, dimension=len(df['embeddings'].tolist()[0]),\n",
    "        metric='cosine'\n",
    "    )\n",
    "    \n",
    "index = pinecone.Index(index_name)"
   ]
  },
  {
   "cell_type": "code",
   "execution_count": 40,
   "id": "47933558-5eba-4996-9bb0-e5dfdc5243b0",
   "metadata": {},
   "outputs": [
    {
     "data": {
      "application/vnd.jupyter.widget-view+json": {
       "model_id": "f74d5388222c435e9e9da2b88cf9efde",
       "version_major": 2,
       "version_minor": 0
      },
      "text/plain": [
       "  0%|          | 0/2 [00:00<?, ?it/s]"
      ]
     },
     "metadata": {},
     "output_type": "display_data"
    }
   ],
   "source": [
    "batch_size = 32\n",
    "\n",
    "for i in tqdm(range(0, len(final_df), batch_size)):\n",
    "    i_end = min(i+batch_size, len(final_df))\n",
    "    df_slice = final_df.iloc[i:i_end]\n",
    "    to_upsert = [\n",
    "        (\n",
    "            row['id'],\n",
    "            row['embeddings'],\n",
    "            {\n",
    "                'course': row['Courses'],\n",
    "                'module': row['Modules'],\n",
    "                'n_tokens': row['n_tokens']\n",
    "            }\n",
    "        ) for _, row in df_slice.iterrows()\n",
    "    ]\n",
    "    # print(to_upsert)\n",
    "    index.upsert(vectors=to_upsert)"
   ]
  },
  {
   "cell_type": "code",
   "execution_count": 41,
   "id": "66b11aa5-ca4b-42a9-940f-742f06dd69de",
   "metadata": {},
   "outputs": [],
   "source": [
    "mappings = {row['id']: row['Context'] for _, row in final_df[['id', 'Context']].iterrows()}"
   ]
  },
  {
   "cell_type": "code",
   "execution_count": 51,
   "id": "66dd45f3-5599-484c-9c00-4ce686771544",
   "metadata": {},
   "outputs": [],
   "source": [
    "with open('./mapping.json', 'w') as fp:\n",
    "    json.dump(mappings, fp)"
   ]
  },
  {
   "cell_type": "code",
   "execution_count": 43,
   "id": "38e9cd47-5cc9-4876-a090-4e0ca98adff5",
   "metadata": {},
   "outputs": [],
   "source": [
    "############################## IMPLEMENTATION OF THE RECOMMENDATION ##############"
   ]
  },
  {
   "cell_type": "code",
   "execution_count": 44,
   "id": "e66cec4d-2480-4496-b9cf-f6b401f12edd",
   "metadata": {},
   "outputs": [],
   "source": [
    "def load_index():\n",
    "    pinecone.init(\n",
    "        api_key='ENTER PINECONE KEY',  # app.pinecone.io\n",
    "        environment='us-east1-gcp'\n",
    "    )\n",
    "\n",
    "    index_name = 'chatgpt-demo'\n",
    "\n",
    "    if not index_name in pinecone.list_indexes():\n",
    "        raise KeyError(f\"Index '{index_name}' does not exist.\")\n",
    "\n",
    "    return pinecone.Index(index_name)"
   ]
  },
  {
   "cell_type": "code",
   "execution_count": 45,
   "id": "a77d4085-9400-4ccf-aab4-2c8e48b4e5e2",
   "metadata": {},
   "outputs": [],
   "source": [
    "index = load_index()"
   ]
  },
  {
   "cell_type": "code",
   "execution_count": 46,
   "id": "34d55ac1-531c-4b1a-826b-8acc6c21487f",
   "metadata": {},
   "outputs": [],
   "source": [
    "def create_context(question, index, max_len=7750):\n",
    "    q_embed = get_embedding(question, engine='text-search-davinci-query-001')\n",
    "    res = index.query(q_embed, top_k=5, include_metadata=True)\n",
    "    \n",
    "\n",
    "    cur_len = 0\n",
    "    contexts = []\n",
    "\n",
    "    for row in res['matches']:\n",
    "        text = mappings[row['id']]\n",
    "        cur_len += row['metadata']['n_tokens'] + 4\n",
    "        if cur_len < max_len:\n",
    "            contexts.append(text)\n",
    "        else:\n",
    "            cur_len -= row['metadata']['n_tokens'] + 4\n",
    "            if max_len - cur_len < 200:\n",
    "                break\n",
    "    return \"\\n\\n###\\n\\n\".join(contexts)"
   ]
  },
  {
   "cell_type": "code",
   "execution_count": 47,
   "id": "d1c45c45-3203-43a6-8a45-050386d7d6df",
   "metadata": {},
   "outputs": [],
   "source": [
    "instructions = {\n",
    "    \"conservative Q&A\": \"Answer the question based on the context below, and if the question can't be answered based on the context, say \\\"I don't know\\\"\\n\\nContext:\\n{0}\\n\\n---\\n\\nQuestion: {1}\\nAnswer:\",\n",
    "    \"paragraph about a question\":\"Write a paragraph, addressing the question, and use the text below to obtain relevant information\\\"\\n\\nContext:\\n{0}\\n\\n---\\n\\nQuestion: {1}\\nParagraph long Answer:\",\n",
    "    \"bullet point\": \"Write a bullet point list of possible answers, addressing the question, and use the text below to obtain relevant information\\\"\\n\\nContext:\\n{0}\\n\\n---\\n\\nQuestion: {1}\\nBullet point Answer:\",\n",
    "    \"summarize problems given a topic\": \"Write a summary of the problems addressed by the questions below\\\"\\n\\n{0}\\n\\n---\\n\\n\",\n",
    "    \"just instruction\": \"{1} given the common questions and answers below \\n\\n{0}\\n\\n---\\n\\n\",\n",
    "    \"summarize\": \"Write an elaborate, paragraph long summary about \\\"{1}\\\" given the questions and answers from a public forum on this topic\\n\\n{0}\\n\\n---\\n\\nSummary:\",\n",
    "    \"experiment\":\"Write precise answer of the question asked, in bullet points with all possible list of answers and use the text below to obtain relevant information\\\"\\n\\nContext:\\n{0}\\n\\n---\\n\\nQuestion: {1}\\exact answer:\"\n",
    "}"
   ]
  },
  {
   "cell_type": "code",
   "execution_count": 48,
   "id": "3ece2f3a-2a4d-4df5-8b94-c558eb90a94f",
   "metadata": {},
   "outputs": [],
   "source": [
    "def answer_question(\n",
    "    index=index,\n",
    "    fine_tuned_qa_model=\"text-davinci-003\",\n",
    "    question=\"What questions can you answer ?\",\n",
    "    instruction=\"Answer the question based on the context below, and if the question can't be answered based on the context, say \\\"Please provide correct question\\\"\\n\\nContext:\\n{0}\\n\\n---\\n\\nQuestion: {1}\\nAnswer:\",\n",
    "    max_len=7550,\n",
    "    debug=False,\n",
    "    max_tokens=400,\n",
    "    stop_sequence=None,\n",
    "):\n",
    "    \"\"\"\n",
    "    Answer a question based on the most similar context from the dataframe texts\n",
    "    \"\"\"\n",
    "    context = create_context(question,index,max_len=max_len)\n",
    "    if debug:\n",
    "        print(\"Context:\\n\" + context)\n",
    "        print(\"\\n\\n\")\n",
    "    try:\n",
    "        # fine-tuned models requires model parameter, whereas other models require engine parameter\n",
    "        model_param = (\n",
    "            {\"model\": fine_tuned_qa_model}\n",
    "            if \":\" in fine_tuned_qa_model\n",
    "            and fine_tuned_qa_model.split(\":\")[1].startswith(\"ft\")\n",
    "            else {\"engine\": fine_tuned_qa_model}\n",
    "        )\n",
    "        #print(instruction.format(context, question))\n",
    "        response = openai.Completion.create(\n",
    "            prompt=instruction.format(context, question),\n",
    "            temperature=0,\n",
    "            max_tokens=max_tokens,\n",
    "            top_p=1,\n",
    "            frequency_penalty=0,\n",
    "            presence_penalty=0,\n",
    "            stop=stop_sequence,\n",
    "            **model_param,\n",
    "        )\n",
    "        return response[\"choices\"][0][\"text\"].strip()\n",
    "    except Exception as e:\n",
    "        print(e)\n",
    "        return \"\""
   ]
  },
  {
   "cell_type": "code",
   "execution_count": 50,
   "id": "4cce9e92-b9a3-4098-b6af-b4a47da27d5f",
   "metadata": {},
   "outputs": [
    {
     "name": "stdout",
     "output_type": "stream",
     "text": [
      "Chatbot: Hello! How can I assist you today?\n"
     ]
    },
    {
     "name": "stdin",
     "output_type": "stream",
     "text": [
      "User:  What are the courses offered in the program ? \n"
     ]
    },
    {
     "name": "stdout",
     "output_type": "stream",
     "text": [
      "Chatbot: - Data Analytics \n",
      "- Data Visualization \n",
      "- Algorithms and Optimization \n",
      "- Data Management for Analytics \n",
      "- Sensor Analytics \n",
      "- Cyber Manufacturing Systems \n",
      "- Robotics and Automation \n",
      "- Ethics, Privacy and Cybersecurity\n",
      " \n"
     ]
    },
    {
     "name": "stdin",
     "output_type": "stream",
     "text": [
      "User:  Can you explain what is taught in Sensor Analytics ?\n"
     ]
    },
    {
     "name": "stdout",
     "output_type": "stream",
     "text": [
      "Chatbot: Sensor Analytics is a course that covers the fundamentals of sensor signal processing and its applications in modern manufacturing and Industry 4.0 contexts. The course consists of the following modules:\n",
      "\n",
      "- Course Overview: Focuses on the role of sensors and sensor analytics in modern manufacturing and Industry 4.0.\n",
      "- Measurement Systems: Provides a comprehensive understanding of measurement systems, encompassing sensor types, operational principles, and attributes.\n",
      "- Basics of Signal Processing: Introduces participants to the various methods of representing signals in different domains.\n",
      "- Time Series Signal Analysis and Prediction (I): Covers topics such as time domain analysis for sensor signals in both discrete and continuous forms, Fourier transform for frequency domain analysis, inverse Fourier transform for signal reconstruction and noise filtering, and the use of time-frequency domain analysis tools for signal processing.\n",
      "- Time Series Signal Analysis and Prediction (II): Focuses on the analysis of data using regression and correlation techniques.\n",
      "- Dimension Reduction Techniques: Covers the computation of correlations among multiple sensor data series, enabling participants to assess the strength and direction of relationships between different variables.\n",
      "- Regression and Correlation Analysis: Equips participants with the tools to perform regression analysis and compute correlations, allowing them to gain valuable insights from their data and make informed decisions based on the observed relationships.\n",
      " \n"
     ]
    },
    {
     "name": "stdin",
     "output_type": "stream",
     "text": [
      "User:  What is Regression and Correlation ? \n"
     ]
    },
    {
     "name": "stdout",
     "output_type": "stream",
     "text": [
      "Chatbot: - Regression is a statistical technique used to analyze the relationship between two or more variables. It is used to predict the value of one variable based on the values of other variables.\n",
      "\n",
      "- Correlation is a measure of the strength and direction of the relationship between two or more variables. It is used to assess the degree to which two variables are related.\n",
      " \n"
     ]
    },
    {
     "name": "stdin",
     "output_type": "stream",
     "text": [
      "User:  Can you explain in brief what is taught in regresssion and correlation ? \n"
     ]
    },
    {
     "name": "stdout",
     "output_type": "stream",
     "text": [
      "Chatbot: - Regression and Correlation Analysis module focuses on the analysis of data using regression and correlation techniques. \n",
      "- Participants will learn about linear regression and least squares methods for solving bivariate and multivariate regression problems. \n",
      "- They will gain the knowledge and skills to apply these techniques to analyze relationships between variables and make predictions. \n",
      "- Additionally, the module covers the computation of correlations among multiple sensor data series, enabling participants to assess the strength and direction of relationships between different variables. \n",
      "- By the end of the module, participants will be equipped with the tools to perform regression analysis and compute correlations, allowing them to gain valuable insights from their data and make informed decisions based on the observed relationships.\n",
      " \n"
     ]
    },
    {
     "name": "stdin",
     "output_type": "stream",
     "text": [
      "User:  exit\n"
     ]
    },
    {
     "name": "stdout",
     "output_type": "stream",
     "text": [
      "Chatbot: Goodbye!\n"
     ]
    }
   ],
   "source": [
    "print(\"Chatbot: Hello! How can I assist you today?\")\n",
    "\n",
    "while True:\n",
    "    user_input = input(\"User: \")\n",
    "\n",
    "    if user_input.lower() == \"exit\":\n",
    "        print(\"Chatbot: Goodbye!\")\n",
    "        break\n",
    "\n",
    "    # Generate a response from the chatbot\n",
    "    response = answer_question(index,question=user_input,instruction = instructions[\"experiment\"], debug=False)\n",
    "    print(\"Chatbot:\", response)\n",
    "    print(\" \")"
   ]
  },
  {
   "cell_type": "code",
   "execution_count": null,
   "id": "2df7b6cd-ce9f-462a-bffb-dd25cf2ace38",
   "metadata": {},
   "outputs": [],
   "source": []
  }
 ],
 "metadata": {
  "kernelspec": {
   "display_name": "Python 3 (ipykernel)",
   "language": "python",
   "name": "python3"
  },
  "language_info": {
   "codemirror_mode": {
    "name": "ipython",
    "version": 3
   },
   "file_extension": ".py",
   "mimetype": "text/x-python",
   "name": "python",
   "nbconvert_exporter": "python",
   "pygments_lexer": "ipython3",
   "version": "3.9.13"
  }
 },
 "nbformat": 4,
 "nbformat_minor": 5
}
